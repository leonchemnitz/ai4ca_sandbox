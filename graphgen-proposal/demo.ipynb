{
 "cells": [
  {
   "cell_type": "code",
   "execution_count": 8,
   "metadata": {},
   "outputs": [
    {
     "data": {
      "image/png": "[encoded data removed]",
      "text/plain": [
       "<Figure size 432x288 with 1 Axes>"
      ]
     },
     "metadata": {
      "needs_background": "light"
     },
     "output_type": "display_data"
    },
    {
     "name": "stdout",
     "output_type": "stream",
     "text": [
      "[-0.81639856 -0.31639856  0.18360144  0.68360144  1.18360144  1.68360144\n",
      "  2.18360144  2.68360144  3.18360144  3.68360144  4.18360144  4.68360144\n",
      "  5.18360144]\n"
     ]
    }
   ],
   "source": [
    "import numpy as np\n",
    "import numpy.typing as npt\n",
    "import matplotlib.pyplot as plt\n",
    "\n",
    "def computeBins(data: npt.ArrayLike, binSize: float) -> npt.ArrayLike:\n",
    "    return np.arange(min(data), max(data), binSize)\n",
    "\n",
    "\n",
    "data = np.loadtxt(\"nonParamTrain.txt\")\n",
    "\n",
    "bins = computeBins(data, binSize = 0.5)\n",
    "plt.hist(data, bins, density=\"true\")\n",
    "plt.show()\n",
    "print(bins)\n"
   ]
  }
 ],
 "metadata": {
  "kernelspec": {
   "display_name": "Python 3",
   "language": "python",
   "name": "python3"
  },
  "language_info": {
   "codemirror_mode": {
    "name": "ipython",
    "version": 3
   },
   "file_extension": ".py",
   "mimetype": "text/x-python",
   "name": "python",
   "nbconvert_exporter": "python",
   "pygments_lexer": "ipython3",
   "version": "3.10.4"
  },
  "orig_nbformat": 4
 },
 "nbformat": 4,
 "nbformat_minor": 2
}
